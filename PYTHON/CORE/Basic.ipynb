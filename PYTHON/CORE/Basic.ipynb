{
 "cells": [
  {
   "cell_type": "markdown",
   "metadata": {},
   "source": [
    "## First Program in python\n"
   ]
  },
  {
   "cell_type": "code",
   "execution_count": 2,
   "metadata": {},
   "outputs": [
    {
     "name": "stdout",
     "output_type": "stream",
     "text": [
      "hello Everyone\n"
     ]
    }
   ],
   "source": [
    "# Print functon add new line after one message \n",
    "# In python 2 print is not function but a key word(we can use without parentheses)\n",
    "# But in Python 3 print is function \n",
    "print(\"hello Everyone\")\n",
    "\n"
   ]
  },
  {
   "cell_type": "code",
   "execution_count": 1,
   "metadata": {},
   "outputs": [
    {
     "name": "stdout",
     "output_type": "stream",
     "text": [
      "3.10.5 (tags/v3.10.5:f377153, Jun  6 2022, 16:14:13) [MSC v.1929 64 bit (AMD64)]\n"
     ]
    }
   ],
   "source": [
    "# Check Python version of an Editor\n",
    "import sys\n",
    "print(sys.version)"
   ]
  },
  {
   "cell_type": "code",
   "execution_count": 1,
   "metadata": {},
   "outputs": [
    {
     "name": "stdout",
     "output_type": "stream",
     "text": [
      "['Hello', 1]\n"
     ]
    }
   ],
   "source": [
    "#List - we can add or remove data in list anytime\n",
    "list_of_a=[]\n",
    "list_of_a.append(\"Hello\")\n",
    "list_of_a.append(1)\n",
    "\n",
    "print(list_of_a)"
   ]
  },
  {
   "cell_type": "code",
   "execution_count": 2,
   "metadata": {},
   "outputs": [],
   "source": [
    "# is used for single line comment in Python\n",
    "# \"\"\" this is a comment \"\"\" is used for multi line comments"
   ]
  },
  {
   "cell_type": "code",
   "execution_count": 3,
   "metadata": {},
   "outputs": [
    {
     "name": "stdout",
     "output_type": "stream",
     "text": [
      "Aman\n"
     ]
    }
   ],
   "source": [
    "# Taking input from user\n",
    "name=input(\"Enter your name : \")\n",
    "print(name)"
   ]
  },
  {
   "cell_type": "code",
   "execution_count": 4,
   "metadata": {},
   "outputs": [
    {
     "name": "stdout",
     "output_type": "stream",
     "text": [
      "Product is : 200\n"
     ]
    }
   ],
   "source": [
    "# example :one simple multiplication \n",
    "num1=int(input(\"Enter number 1 :\"))\n",
    "num2=int(input(\"Enter number 2 :\"))\n",
    "\n",
    "product=num1*num2\n",
    "\n",
    "print(\"Product is :\",product)"
   ]
  },
  {
   "cell_type": "code",
   "execution_count": 5,
   "metadata": {},
   "outputs": [
    {
     "name": "stdout",
     "output_type": "stream",
     "text": [
      "Number is equal to 12\n"
     ]
    }
   ],
   "source": [
    "# Selection\n",
    "num=int(input(\"Enter the number : \"))\n",
    "if(num>12):\n",
    "    print(\"Number is greater than 12\")\n",
    "elif(num==12):\n",
    "    print(\"Number is equal to 12\")\n",
    "else:\n",
    "    print(\"number is less than 12\")\n"
   ]
  },
  {
   "cell_type": "code",
   "execution_count": 6,
   "metadata": {},
   "outputs": [
    {
     "name": "stdout",
     "output_type": "stream",
     "text": [
      "I am learning python\n"
     ]
    }
   ],
   "source": [
    "# Function \n",
    "def aman():\n",
    "    print(\"I am learning python\")\n",
    "\n",
    "aman()"
   ]
  },
  {
   "cell_type": "code",
   "execution_count": null,
   "metadata": {},
   "outputs": [],
   "source": []
  }
 ],
 "metadata": {
  "kernelspec": {
   "display_name": "Python 3",
   "language": "python",
   "name": "python3"
  },
  "language_info": {
   "codemirror_mode": {
    "name": "ipython",
    "version": 3
   },
   "file_extension": ".py",
   "mimetype": "text/x-python",
   "name": "python",
   "nbconvert_exporter": "python",
   "pygments_lexer": "ipython3",
   "version": "3.10.5"
  }
 },
 "nbformat": 4,
 "nbformat_minor": 2
}
